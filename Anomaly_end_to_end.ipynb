{
 "cells": [
  {
   "cell_type": "markdown",
   "id": "72b1c208",
   "metadata": {},
   "source": [
    "# Complete Anomaly Detection follow-along\n",
    "https://www.youtube.com/watch?v=OS9xRGKfx4E"
   ]
  },
  {
   "cell_type": "markdown",
   "id": "36ebeb06",
   "metadata": {},
   "source": [
    "Abstract: the bank contacted you that there is an anomaly. you will have to detect outliers for transactions."
   ]
  },
  {
   "cell_type": "code",
   "execution_count": null,
   "id": "9be88825",
   "metadata": {},
   "outputs": [],
   "source": []
  }
 ],
 "metadata": {
  "kernelspec": {
   "display_name": "Python 3 (ipykernel)",
   "language": "python",
   "name": "python3"
  },
  "language_info": {
   "codemirror_mode": {
    "name": "ipython",
    "version": 3
   },
   "file_extension": ".py",
   "mimetype": "text/x-python",
   "name": "python",
   "nbconvert_exporter": "python",
   "pygments_lexer": "ipython3",
   "version": "3.10.9"
  }
 },
 "nbformat": 4,
 "nbformat_minor": 5
}
